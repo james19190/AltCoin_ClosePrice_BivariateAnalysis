{
 "cells": [
  {
   "cell_type": "markdown",
   "metadata": {},
   "source": [
    "Use of Dynamic Time Warping (DTW Algorithm) to compare two time series data, given that the movement of 2 stock price data do not occur simultaneously. \n",
    "\n",
    "Sources\n",
    "- dtwParallel: A Python package to efficiently compute dynamic time warping between time series\n",
    "https://www.sciencedirect.com/science/article/pii/S2352711023000602\n",
    "\n",
    "- explanation : https://www.theaidream.com/post/dynamic-time-warping-dtw-algorithm-in-time-series\n",
    "\n",
    "Explanation\n",
    "\n",
    "The \"corr_twoVar\" utilizes the DTW Algorithm to identify similarity levels of a given metric\n",
    "\n",
    "\n",
    "Alternatives\n",
    "- If DTW is time-inefficient, FAST DTW (or) Sparce DTW can be used\n",
    "- If 'similarity' is not sufficient, each stock being compared can be shifted by different time intervals, and then compared with standard PPMCC Corellations"
   ]
  },
  {
   "cell_type": "code",
   "execution_count": 1,
   "metadata": {},
   "outputs": [],
   "source": [
    "import pandas as pd\n",
    "import numpy as np\n",
    "\n",
    "# Plotting Packages\n",
    "import matplotlib.pyplot as plt\n",
    "import seaborn as sbn\n",
    "\n",
    "import matplotlib as mpl\n",
    "mpl.rcParams['figure.dpi'] = 150\n",
    "savefig_options = dict(format=\"png\", dpi=150, bbox_inches=\"tight\")\n",
    "\n",
    "# Computation packages\n",
    "from scipy.spatial.distance import euclidean\n",
    "from fastdtw import fastdtw"
   ]
  },
  {
   "cell_type": "code",
   "execution_count": null,
   "metadata": {},
   "outputs": [],
   "source": [
    "\"\"\"Calculate distance matrix\n",
    "This method calcualtes the pairwise Euclidean distance between two sequences.\n",
    "The sequences can have different lengths.\n",
    "\"\"\"\n",
    "\n",
    "def compute_euclidean_distance_matrix(x, y) -> np.array:\n",
    "    dist = np.zeros((len(y), len(x)))\n",
    "    for i in range(len(y)):\n",
    "        for j in range(len(x)):\n",
    "            dist[i,j] = (x[j]-y[i])**2\n",
    "    return dist"
   ]
  },
  {
   "cell_type": "code",
   "execution_count": null,
   "metadata": {},
   "outputs": [],
   "source": [
    "\"\"\"Compute accumulated cost matrix for warp path using Euclidean distance\n",
    "\"\"\"\n",
    "\n",
    "def compute_accumulated_cost_matrix(x, y) -> np.array:\n",
    "    distances = compute_euclidean_distance_matrix(x, y)\n",
    "\n",
    "    # Initialization\n",
    "    cost = np.zeros((len(y), len(x)))\n",
    "    cost[0,0] = distances[0,0]\n",
    "    \n",
    "    for i in range(1, len(y)):\n",
    "        cost[i, 0] = distances[i, 0] + cost[i-1, 0]  \n",
    "        \n",
    "    for j in range(1, len(x)):\n",
    "        cost[0, j] = distances[0, j] + cost[0, j-1]  \n",
    "\n",
    "    # Accumulated warp path cost\n",
    "    for i in range(1, len(y)):\n",
    "        for j in range(1, len(x)):\n",
    "            cost[i, j] = min(\n",
    "                cost[i-1, j],    # insertion\n",
    "                cost[i, j-1],    # deletion\n",
    "                cost[i-1, j-1]   # match\n",
    "            ) + distances[i, j] \n",
    "            \n",
    "    return cost"
   ]
  },
  {
   "cell_type": "markdown",
   "metadata": {},
   "source": []
  }
 ],
 "metadata": {
  "kernelspec": {
   "display_name": "Python 3",
   "language": "python",
   "name": "python3"
  },
  "language_info": {
   "codemirror_mode": {
    "name": "ipython",
    "version": 3
   },
   "file_extension": ".py",
   "mimetype": "text/x-python",
   "name": "python",
   "nbconvert_exporter": "python",
   "pygments_lexer": "ipython3",
   "version": "3.11.4"
  }
 },
 "nbformat": 4,
 "nbformat_minor": 2
}
