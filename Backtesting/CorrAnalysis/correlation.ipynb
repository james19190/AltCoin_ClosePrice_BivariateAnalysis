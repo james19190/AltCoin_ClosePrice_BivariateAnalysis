{
 "cells": [
  {
   "cell_type": "markdown",
   "metadata": {},
   "source": [
    "Use of Dynamic Time Warping (DTW Algorithm) to compare two time series data, given that the movement of 2 stock price data do not occur simultaneously. \n",
    "\n",
    "Sources\n",
    "- dtwParallel: A Python package to efficiently compute dynamic time warping between time series\n",
    "https://www.sciencedirect.com/science/article/pii/S2352711023000602\n",
    "\n",
    "- explanation : https://www.theaidream.com/post/dynamic-time-warping-dtw-algorithm-in-time-series\n",
    "\n",
    "Explanation\n",
    "\n",
    "The \"corr_twoVar\" utilizes the DTW Algorithm to identify similarity levels of a given metric\n",
    "\n",
    "\n",
    "Alternatives\n",
    "- If DTW is time-inefficient, FAST DTW (or) Sparce DTW can be used\n",
    "- If 'similarity' is not sufficient, each stock being compared can be shifted by different time intervals, and then compared with standard PPMCC Corellations"
   ]
  },
  {
   "cell_type": "code",
   "execution_count": null,
   "metadata": {},
   "outputs": [],
   "source": [
    "import pandas as pd\n",
    "import numpy as np\n",
    "\n",
    "import matplotlib.pyplot as pyplot\n",
    "import seaborn as sbn\n",
    "import matplotlib as mpl \n",
    "\n",
    "\n",
    "def corr_twoVarW():\n"
   ]
  },
  {
   "cell_type": "markdown",
   "metadata": {},
   "source": []
  }
 ],
 "metadata": {
  "language_info": {
   "name": "python"
  }
 },
 "nbformat": 4,
 "nbformat_minor": 2
}
