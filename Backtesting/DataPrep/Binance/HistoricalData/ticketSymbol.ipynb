{
 "cells": [
  {
   "cell_type": "markdown",
   "metadata": {},
   "source": [
    "This module retrives all the coins (symbol data) that are listed on binance between dates <> and stores the value in a dataframe "
   ]
  },
  {
   "cell_type": "code",
   "execution_count": 28,
   "metadata": {},
   "outputs": [
    {
     "name": "stdout",
     "output_type": "stream",
     "text": [
      "<class 'pandas.core.frame.DataFrame'>\n",
      "RangeIndex: 2438 entries, 0 to 2437\n",
      "Data columns (total 1 columns):\n",
      " #   Column  Non-Null Count  Dtype\n",
      "---  ------  --------------  -----\n",
      " 0   Ticker  2438 non-null   |S80 \n",
      "dtypes: bytes640(1)\n",
      "memory usage: 190.6 KB\n",
      "None\n"
     ]
    }
   ],
   "source": [
    "from binance.client import Client\n",
    "import pandas as pd\n",
    "\n",
    "client = Client()\n",
    "all_data = client.get_all_tickers()\n",
    "ticker_list = []\n",
    "\n",
    "for coin in all_data:\n",
    "    ticker_list.append(coin[\"symbol\"])\n",
    "\n",
    "ticker_df = pd.DataFrame(ticker_list, columns=[\"Ticker\"])\n",
    "ticker_df[\"Ticker\"] = ticker_df[\"Ticker\"].astype('|S80')\n",
    "print(ticker_df.info())"
   ]
  },
  {
   "cell_type": "code",
   "execution_count": 24,
   "metadata": {},
   "outputs": [
    {
     "data": {
      "text/plain": [
       "Ticker    |S80\n",
       "dtype: object"
      ]
     },
     "execution_count": 24,
     "metadata": {},
     "output_type": "execute_result"
    }
   ],
   "source": [
    "# ticker_df.head()\n",
    "ticker_df.dtypes"
   ]
  }
 ],
 "metadata": {
  "kernelspec": {
   "display_name": "Python 3",
   "language": "python",
   "name": "python3"
  },
  "language_info": {
   "codemirror_mode": {
    "name": "ipython",
    "version": 3
   },
   "file_extension": ".py",
   "mimetype": "text/x-python",
   "name": "python",
   "nbconvert_exporter": "python",
   "pygments_lexer": "ipython3",
   "version": "3.11.4"
  }
 },
 "nbformat": 4,
 "nbformat_minor": 2
}
