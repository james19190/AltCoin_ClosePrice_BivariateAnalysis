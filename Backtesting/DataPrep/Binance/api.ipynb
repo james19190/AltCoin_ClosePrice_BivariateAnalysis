{
 "cells": [
  {
   "cell_type": "code",
   "execution_count": 4,
   "metadata": {},
   "outputs": [
    {
     "name": "stdout",
     "output_type": "stream",
     "text": [
      "wss://stream.binance.com:9443/stream?streams=btcusdt@kline_1s\n",
      "{'stream': 'btcusdt@kline_1s', 'data': {'e': 'kline', 'E': 1704762683005, 's': 'BTCUSDT', 'k': {'t': 1704762682000, 'T': 1704762682999, 's': 'BTCUSDT', 'i': '1s', 'f': 3359261410, 'L': 3359261411, 'o': '46747.66000000', 'c': '46747.66000000', 'h': '46747.66000000', 'l': '46747.66000000', 'v': '0.00249000', 'n': 2, 'x': True, 'q': '116.40167340', 'V': '0.00249000', 'Q': '116.40167340', 'B': '0'}}}\n",
      "{'stream': 'btcusdt@kline_1s', 'data': {'e': 'kline', 'E': 1704762684008, 's': 'BTCUSDT', 'k': {'t': 1704762683000, 'T': 1704762683999, 's': 'BTCUSDT', 'i': '1s', 'f': 3359261412, 'L': 3359261432, 'o': '46747.66000000', 'c': '46749.84000000', 'h': '46749.84000000', 'l': '46747.66000000', 'v': '0.75572000', 'n': 21, 'x': True, 'q': '35328.54093000', 'V': '0.72199000', 'Q': '33751.67827120', 'B': '0'}}}\n",
      "{'stream': 'btcusdt@kline_1s', 'data': {'e': 'kline', 'E': 1704762685005, 's': 'BTCUSDT', 'k': {'t': 1704762684000, 'T': 1704762684999, 's': 'BTCUSDT', 'i': '1s', 'f': 3359261433, 'L': 3359261456, 'o': '46750.00000000', 'c': '46751.71000000', 'h': '46751.72000000', 'l': '46750.00000000', 'v': '0.34867000', 'n': 24, 'x': True, 'q': '16300.81594430', 'V': '0.06403000', 'Q': '2993.40920990', 'B': '0'}}}\n",
      "{'stream': 'btcusdt@kline_1s', 'data': {'e': 'kline', 'E': 1704762686005, 's': 'BTCUSDT', 'k': {'t': 1704762685000, 'T': 1704762685999, 's': 'BTCUSDT', 'i': '1s', 'f': 3359261457, 'L': 3359261462, 'o': '46751.71000000', 'c': '46751.71000000', 'h': '46751.72000000', 'l': '46751.71000000', 'v': '0.03267000', 'n': 6, 'x': True, 'q': '1527.37838740', 'V': '0.00217000', 'Q': '101.45123240', 'B': '0'}}}\n",
      "{'stream': 'btcusdt@kline_1s', 'data': {'e': 'kline', 'E': 1704762687005, 's': 'BTCUSDT', 'k': {'t': 1704762686000, 'T': 1704762686999, 's': 'BTCUSDT', 'i': '1s', 'f': 3359261463, 'L': 3359261469, 'o': '46751.71000000', 'c': '46751.72000000', 'h': '46751.72000000', 'l': '46751.71000000', 'v': '0.06028000', 'n': 7, 'x': True, 'q': '2818.19317050', 'V': '0.00917000', 'Q': '428.71327240', 'B': '0'}}}\n",
      "{'stream': 'btcusdt@kline_1s', 'data': {'e': 'kline', 'E': 1704762688005, 's': 'BTCUSDT', 'k': {'t': 1704762687000, 'T': 1704762687999, 's': 'BTCUSDT', 'i': '1s', 'f': 3359261470, 'L': 3359261530, 'o': '46751.72000000', 'c': '46757.99000000', 'h': '46758.00000000', 'l': '46751.72000000', 'v': '3.61797000', 'n': 61, 'x': True, 'q': '169152.35261670', 'V': '3.61384000', 'Q': '168959.24211800', 'B': '0'}}}\n",
      "{'stream': 'btcusdt@kline_1s', 'data': {'e': 'kline', 'E': 1704762689005, 's': 'BTCUSDT', 'k': {'t': 1704762688000, 'T': 1704762688999, 's': 'BTCUSDT', 'i': '1s', 'f': 3359261531, 'L': 3359261531, 'o': '46757.99000000', 'c': '46757.99000000', 'h': '46757.99000000', 'l': '46757.99000000', 'v': '0.00174000', 'n': 1, 'x': True, 'q': '81.35890260', 'V': '0.00000000', 'Q': '0.00000000', 'B': '0'}}}\n"
     ]
    },
    {
     "data": {
      "text/plain": [
       "True"
      ]
     },
     "execution_count": 4,
     "metadata": {},
     "output_type": "execute_result"
    }
   ],
   "source": [
    "import json\n",
    "import pandas as pandas\n",
    "import websocket\n",
    "\n",
    "assets = ['BTCUSDT']\n",
    "assets = [coin.lower() + '@kline_1m' for coin in assets] #'{cointicker}@kline_1m'\n",
    "assets = '/'.join(assets)\n",
    "\n",
    "def on_message(ws,message): \n",
    "    message = json.loads(message)\n",
    "    print(message)\n",
    "\n",
    "socket = 'wss://stream.binance.com:9443/stream?streams='+assets\n",
    "\n",
    "ws = websocket.WebSocketApp(socket, on_message=on_message)\n",
    "ws.run_forever()\n"
   ]
  }
 ],
 "metadata": {
  "kernelspec": {
   "display_name": "Python 3",
   "language": "python",
   "name": "python3"
  },
  "language_info": {
   "codemirror_mode": {
    "name": "ipython",
    "version": 3
   },
   "file_extension": ".py",
   "mimetype": "text/x-python",
   "name": "python",
   "nbconvert_exporter": "python",
   "pygments_lexer": "ipython3",
   "version": "3.11.4"
  }
 },
 "nbformat": 4,
 "nbformat_minor": 2
}
