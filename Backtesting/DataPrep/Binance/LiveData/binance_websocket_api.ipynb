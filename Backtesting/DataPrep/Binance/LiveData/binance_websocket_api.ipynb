{
 "cells": [
  {
   "cell_type": "code",
   "execution_count": 2,
   "metadata": {},
   "outputs": [
    {
     "name": "stdout",
     "output_type": "stream",
     "text": [
      "btcusdt@kline_1m\n"
     ]
    },
    {
     "data": {
      "text/plain": [
       "True"
      ]
     },
     "execution_count": 2,
     "metadata": {},
     "output_type": "execute_result"
    }
   ],
   "source": [
    "import json\n",
    "import pandas as pandas\n",
    "import websocket\n",
    "\n",
    "assets = ['BTCUSDT']\n",
    "assets = [coin.lower() + '@kline_1m' for coin in assets] #'{cointicker}@kline_1m'\n",
    "assets = '/'.join(assets)\n",
    "\n",
    "print(assets)\n",
    "\n",
    "def on_message(ws,message): \n",
    "    message = json.loads(message)\n",
    "    print(message)\n",
    "\n",
    "socket = 'wss://stream.binance.com:9443/stream?streams='+assets\n",
    "\n",
    "ws = websocket.WebSocketApp(socket, on_message=on_message)\n",
    "ws.run_forever()\n"
   ]
  },
  {
   "cell_type": "code",
   "execution_count": null,
   "metadata": {},
   "outputs": [],
   "source": []
  }
 ],
 "metadata": {
  "kernelspec": {
   "display_name": "Python 3",
   "language": "python",
   "name": "python3"
  },
  "language_info": {
   "codemirror_mode": {
    "name": "ipython",
    "version": 3
   },
   "file_extension": ".py",
   "mimetype": "text/x-python",
   "name": "python",
   "nbconvert_exporter": "python",
   "pygments_lexer": "ipython3",
   "version": "3.11.6"
  }
 },
 "nbformat": 4,
 "nbformat_minor": 2
}
