{
 "cells": [
  {
   "cell_type": "markdown",
   "metadata": {},
   "source": [
    "coinbase api key : 57445289-4b93-41bf-96e1-21e6878a83bb"
   ]
  },
  {
   "cell_type": "code",
   "execution_count": 6,
   "metadata": {},
   "outputs": [
    {
     "name": "stdout",
     "output_type": "stream",
     "text": [
      "{'status': {'timestamp': '2024-01-09T00:31:07.105Z', 'error_code': 0, 'error_message': None, 'elapsed': 1, 'credit_count': 1, 'notice': None}, 'data': {'id': 4219, 'name': 'wy6af7nhhaq', 'symbol': 'brymvufk7oq', 'slug': '70lty50y9cq', 'cmc_rank': 6838, 'is_active': False, 'is_fiat': None, 'self_reported_circulating_supply': None, 'self_reported_market_cap': None, 'num_market_pairs': 9723, 'circulating_supply': 2385, 'total_supply': 7524, 'max_supply': 1976, 'last_updated': '2024-01-09T00:31:07.105Z', 'date_added': '2024-01-09T00:31:07.105Z', 'tags': ['lzrxuivouu', 'o90px4f7zh', 'to4avlqdgnn', '4ymrdv2ighu', 'uii8r0zpfhs', 'rylkf7gufzn', 's7hxjt1srgn', 'nxov33p3fn', 's6p357hmcam', 'gdb485wd1ck'], 'platform': None, 'quote': {'USD': {'price': 0.8377080459383541, 'volume_24h': 9050, 'percent_change_1h': 0.6054462991813225, 'percent_change_24h': 0.3974359151645033, 'percent_change_7d': 0.8502336921670701, 'market_cap': 8852, 'last_updated': '2024-01-09T00:31:07.105Z'}}}}\n"
     ]
    }
   ],
   "source": [
    "from requests import Request, Session\n",
    "from requests.exceptions import ConnectionError, Timeout, TooManyRedirects\n",
    "import json\n",
    "\n",
    "url = 'https://sandbox-api.coinmarketcap.com/v1/cryptocurrency/trending/latest'\n",
    "\n",
    "parameters = {\n",
    "  'start':'1',\n",
    "  'limit':'1000',\n",
    "  'convert':'USD'\n",
    "}\n",
    "\n",
    "headers = {\n",
    "  'Accepts': 'application/json',\n",
    "  'X-CMC_PRO_API_KEY': '57445289-4b93-41bf-96e1-21e6878a83bb',\n",
    "}\n",
    "\n",
    "session = Session()\n",
    "session.headers.update(headers)\n",
    "\n",
    "try:\n",
    "    response = session.get(url, params= parameters)\n",
    "    data = json.loads(response.text)\n",
    "    print(data)\n",
    "except (ConnectionError, Timeout, TooManyRedirects) as e:\n",
    "    print(e)"
   ]
  }
 ],
 "metadata": {
  "kernelspec": {
   "display_name": "Python 3",
   "language": "python",
   "name": "python3"
  },
  "language_info": {
   "codemirror_mode": {
    "name": "ipython",
    "version": 3
   },
   "file_extension": ".py",
   "mimetype": "text/x-python",
   "name": "python",
   "nbconvert_exporter": "python",
   "pygments_lexer": "ipython3",
   "version": "3.11.4"
  }
 },
 "nbformat": 4,
 "nbformat_minor": 2
}
